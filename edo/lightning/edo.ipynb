{
 "cells": [
  {
   "cell_type": "markdown",
   "metadata": {
    "slideshow": {
     "slide_type": "slide"
    }
   },
   "source": [
    "<h1 style='font-size:70px'>\n",
    "    Evolutionary dataset optimisation\n",
    "</h1>\n",
    "<br>\n",
    "<font size='6'>\n",
    "    Henry Wilde | \n",
    "</font><font size='4'>\n",
    "    <i class='fa fa-github' aria-hidden='false' size='4'></i>\n",
    "    <i class='fa fa-twitter' aria-hidden='false'></i>\n",
    "</font><font size='6'>\n",
    "    @daffidwilde\n",
    "</font>"
   ]
  },
  {
   "cell_type": "markdown",
   "metadata": {
    "slideshow": {
     "slide_type": "slide"
    }
   },
   "source": [
    "# Optimising a simple function"
   ]
  },
  {
   "cell_type": "markdown",
   "metadata": {
    "slideshow": {
     "slide_type": "fragment"
    }
   },
   "source": [
    "Suppose we want to find the global optimum of $f(x)=x^2$."
   ]
  },
  {
   "cell_type": "markdown",
   "metadata": {
    "slideshow": {
     "slide_type": "subslide"
    }
   },
   "source": [
    "# Formulation"
   ]
  },
  {
   "cell_type": "code",
   "execution_count": 1,
   "metadata": {
    "slideshow": {
     "slide_type": "fragment"
    }
   },
   "outputs": [],
   "source": [
    "import edo\n",
    "\n",
    "from edo.pdfs import Normal"
   ]
  },
  {
   "cell_type": "code",
   "execution_count": 2,
   "metadata": {
    "slideshow": {
     "slide_type": "fragment"
    }
   },
   "outputs": [],
   "source": [
    "def x_squared(df):\n",
    "\n",
    "    return df.iloc[0, 0] ** 2"
   ]
  },
  {
   "cell_type": "code",
   "execution_count": 3,
   "metadata": {
    "slideshow": {
     "slide_type": "fragment"
    }
   },
   "outputs": [],
   "source": [
    "Normal.mean_limits = [-1, 1]\n",
    "Normal.std_limits = [0, 1]"
   ]
  },
  {
   "cell_type": "code",
   "execution_count": 4,
   "metadata": {
    "slideshow": {
     "slide_type": "fragment"
    }
   },
   "outputs": [],
   "source": [
    "pop_history, fit_history = edo.run_algorithm(\n",
    "    fitness=x_squared,\n",
    "    size=50,\n",
    "    row_limits=[1, 1],\n",
    "    col_limits=[1, 1],\n",
    "    families=[Normal],\n",
    "    max_iter=10,\n",
    "    mutation_prob=0.01,\n",
    "    seed=0\n",
    ")"
   ]
  },
  {
   "cell_type": "markdown",
   "metadata": {
    "slideshow": {
     "slide_type": "subslide"
    }
   },
   "source": [
    "# Looking at the results"
   ]
  },
  {
   "cell_type": "code",
   "execution_count": 5,
   "metadata": {
    "slideshow": {
     "slide_type": "fragment"
    }
   },
   "outputs": [],
   "source": [
    "import numpy as np"
   ]
  },
  {
   "cell_type": "code",
   "execution_count": 6,
   "metadata": {
    "slideshow": {
     "slide_type": "fragment"
    }
   },
   "outputs": [],
   "source": [
    "best = np.argmin(fit_history[fit_history[\"generation\"] == 10][\"fitness\"].values)\n",
    "ind = pop_history[-1][best]"
   ]
  },
  {
   "cell_type": "code",
   "execution_count": 7,
   "metadata": {
    "slideshow": {
     "slide_type": "fragment"
    }
   },
   "outputs": [
    {
     "data": {
      "text/html": [
       "<div>\n",
       "<style scoped>\n",
       "    .dataframe tbody tr th:only-of-type {\n",
       "        vertical-align: middle;\n",
       "    }\n",
       "\n",
       "    .dataframe tbody tr th {\n",
       "        vertical-align: top;\n",
       "    }\n",
       "\n",
       "    .dataframe thead th {\n",
       "        text-align: right;\n",
       "    }\n",
       "</style>\n",
       "<table border=\"1\" class=\"dataframe\">\n",
       "  <thead>\n",
       "    <tr style=\"text-align: right;\">\n",
       "      <th></th>\n",
       "      <th>0</th>\n",
       "    </tr>\n",
       "  </thead>\n",
       "  <tbody>\n",
       "    <tr>\n",
       "      <th>0</th>\n",
       "      <td>0.043709</td>\n",
       "    </tr>\n",
       "  </tbody>\n",
       "</table>\n",
       "</div>"
      ],
      "text/plain": [
       "          0\n",
       "0  0.043709"
      ]
     },
     "execution_count": 7,
     "metadata": {},
     "output_type": "execute_result"
    }
   ],
   "source": [
    "ind.dataframe"
   ]
  },
  {
   "cell_type": "code",
   "execution_count": 8,
   "metadata": {
    "slideshow": {
     "slide_type": "fragment"
    }
   },
   "outputs": [
    {
     "data": {
      "text/plain": [
       "[{'mean': 1.0753214741215302,\n",
       "  'std': 8.45983873461537,\n",
       "  'name': 'Normal',\n",
       "  'subtype_id': 1}]"
      ]
     },
     "execution_count": 8,
     "metadata": {},
     "output_type": "execute_result"
    }
   ],
   "source": [
    "ind.metadata"
   ]
  },
  {
   "cell_type": "code",
   "execution_count": 9,
   "metadata": {
    "slideshow": {
     "slide_type": "skip"
    }
   },
   "outputs": [],
   "source": [
    "# import matplotlib.pyplot as plt\n",
    "\n",
    "# fig, (top, bottom) = plt.subplots(\n",
    "#     nrows=2, ncols=3, figsize=(45, 30), dpi=300, sharex=True, sharey=True\n",
    "# )\n",
    "\n",
    "# fontsize = 36\n",
    "# xs = np.linspace(-10, 10, 100)\n",
    "# ys = [x ** 2 for x in xs]\n",
    "\n",
    "# for i in range(6):\n",
    "\n",
    "#     if i < 3:\n",
    "#         axes = top\n",
    "#     else:\n",
    "#         axes = bottom\n",
    "\n",
    "#     j = i % 3\n",
    "#     data = [\n",
    "#         [ind.dataframe.iloc[0, 0] for ind in pop_history[i]],\n",
    "#         fit_history[fit_history[\"generation\"] == i][\"fitness\"].values\n",
    "#     ]\n",
    "\n",
    "#     axes[j].plot(xs, ys, lw=3, zorder=-1)\n",
    "#     axes[j].scatter(*data, s=200, color=\"orange\")\n",
    "#     axes[j].set_xlim(-5, 5)\n",
    "#     axes[j].set_ylim(-1, 30)\n",
    "\n",
    "#     axes[j].set_title(f\"Fitness scores in epoch {i}\", size=fontsize, pad=25)\n",
    "#     if i in [3, 4, 5]:\n",
    "#         axes[j].set_xlabel(r\"$x$\", size=fontsize)\n",
    "#     if i in [0, 3]:\n",
    "#         axes[j].set_ylabel(r\"$f(x) = x^2$\", size=fontsize)\n",
    "\n",
    "#     for label in axes[j].get_xticklabels() + axes[j].get_yticklabels():\n",
    "#         label.set_fontsize(fontsize * .8)\n",
    "\n",
    "# plt.tight_layout(pad=5)\n",
    "# plt.savefig('my_plot.svg', format='svg')"
   ]
  },
  {
   "cell_type": "markdown",
   "metadata": {
    "slideshow": {
     "slide_type": "subslide"
    }
   },
   "source": [
    "# Visualising the results\n",
    "\n",
    "![](my_plot.svg)"
   ]
  },
  {
   "cell_type": "markdown",
   "metadata": {
    "slideshow": {
     "slide_type": "slide"
    }
   },
   "source": [
    "# Why though?"
   ]
  },
  {
   "cell_type": "markdown",
   "metadata": {
    "slideshow": {
     "slide_type": "slide"
    }
   },
   "source": [
    "# Something a little harder"
   ]
  },
  {
   "cell_type": "markdown",
   "metadata": {
    "slideshow": {
     "slide_type": "fragment"
    }
   },
   "source": [
    "Consider the task of finding two perfectly correlated, equally sized sets of numbers. One continuous, one discrete."
   ]
  },
  {
   "cell_type": "markdown",
   "metadata": {
    "slideshow": {
     "slide_type": "subslide"
    }
   },
   "source": [
    "# Formulation"
   ]
  },
  {
   "cell_type": "code",
   "execution_count": 10,
   "metadata": {
    "slideshow": {
     "slide_type": "fragment"
    }
   },
   "outputs": [],
   "source": [
    "from scipy.stats import linregress\n",
    "from edo.pdfs import Poisson, Normal"
   ]
  },
  {
   "cell_type": "code",
   "execution_count": 11,
   "metadata": {
    "slideshow": {
     "slide_type": "skip"
    }
   },
   "outputs": [],
   "source": [
    "Normal.mean_limits = [-10, 10]\n",
    "Normal.std_limits = [0, 10]"
   ]
  },
  {
   "cell_type": "code",
   "execution_count": 12,
   "metadata": {
    "slideshow": {
     "slide_type": "fragment"
    }
   },
   "outputs": [],
   "source": [
    "def r_squared(df):\n",
    "\n",
    "    _, _, r, _, _ = linregress(df.iloc[:, 0].values, df.iloc[:, 1].values)\n",
    "    return r ** 2"
   ]
  },
  {
   "cell_type": "code",
   "execution_count": 13,
   "metadata": {
    "slideshow": {
     "slide_type": "fragment"
    }
   },
   "outputs": [],
   "source": [
    "pop_history, fit_history = edo.run_algorithm(\n",
    "    fitness=r_squared,\n",
    "    size=100,\n",
    "    row_limits=[10, 50],\n",
    "    col_limits=[(1, 1), (1, 1)],\n",
    "    families=[Normal, Poisson],\n",
    "    max_iter=50,\n",
    "    maximise=True,\n",
    "    seed=0\n",
    ")"
   ]
  },
  {
   "cell_type": "markdown",
   "metadata": {
    "slideshow": {
     "slide_type": "subslide"
    }
   },
   "source": [
    "# The best individual"
   ]
  },
  {
   "cell_type": "code",
   "execution_count": 14,
   "metadata": {
    "slideshow": {
     "slide_type": "skip"
    }
   },
   "outputs": [],
   "source": [
    "# import matplotlib.pyplot as plt\n",
    "\n",
    "# final_fit = fit_history[fit_history[\"generation\"] == 50][\"fitness\"]\n",
    "\n",
    "# best = np.argmax(final_fit.values)\n",
    "# ind = pop_history[-1][best]\n",
    "# df = ind.dataframe\n",
    "\n",
    "# fig, ax = plt.subplots(1, figsize=(12, 8), dpi=300)\n",
    "\n",
    "# ax.scatter(df.select_dtypes('int'), df.select_dtypes('float'))\n",
    "# ax.annotate(\n",
    "#     s=r'$r^2$' + f' = {np.round(np.max(final_fit.values), 4)}',\n",
    "#     xy=[4, 1],\n",
    "#     fontsize=20,\n",
    "#     bbox=dict(boxstyle='round', fc='0.9')\n",
    "# )\n",
    "\n",
    "# ax.set_xlabel('Discrete column')\n",
    "# ax.set_ylabel('Continuous column')\n",
    "\n",
    "# plt.savefig('my_linregress_ind.svg', format='svg')"
   ]
  },
  {
   "cell_type": "markdown",
   "metadata": {
    "slideshow": {
     "slide_type": "fragment"
    }
   },
   "source": [
    "![](my_linregress_ind.svg)"
   ]
  },
  {
   "cell_type": "code",
   "execution_count": 15,
   "metadata": {
    "slideshow": {
     "slide_type": "skip"
    }
   },
   "outputs": [],
   "source": [
    "# fig, ax = plt.subplots(figsize=(24, 12), dpi=300)\n",
    "\n",
    "# ax.boxplot(\n",
    "#     fit_history[\"fitness\"].values.reshape(100, 51).T,\n",
    "#     sym=\".\",\n",
    "#     showmeans=True\n",
    "# )\n",
    "\n",
    "# ax.set_xlabel(\"Epoch\")\n",
    "# ax.set_ylabel(\"Fitness\")\n",
    "\n",
    "# ax.set_xticks(range(1, 101, 5))\n",
    "# ax.set_xticklabels(range(0, 101, 5))\n",
    "\n",
    "# plt.savefig(\"my_linregress_plot.png\", transparent=True);"
   ]
  },
  {
   "cell_type": "markdown",
   "metadata": {
    "slideshow": {
     "slide_type": "subslide"
    }
   },
   "source": [
    "# Fitness progression\n",
    "\n",
    "![](my_linregress_plot.png)"
   ]
  },
  {
   "cell_type": "markdown",
   "metadata": {
    "slideshow": {
     "slide_type": "slide"
    }
   },
   "source": [
    "# What is `edo`?"
   ]
  },
  {
   "cell_type": "markdown",
   "metadata": {
    "slideshow": {
     "slide_type": "fragment"
    }
   },
   "source": [
    "- artificial data generation framework"
   ]
  },
  {
   "cell_type": "markdown",
   "metadata": {
    "slideshow": {
     "slide_type": "fragment"
    }
   },
   "source": [
    "- a genetic algorithm"
   ]
  },
  {
   "cell_type": "markdown",
   "metadata": {
    "slideshow": {
     "slide_type": "fragment"
    }
   },
   "source": [
    "# What is it for?"
   ]
  },
  {
   "cell_type": "markdown",
   "metadata": {
    "slideshow": {
     "slide_type": "fragment"
    }
   },
   "source": [
    "- creating banks of useful datasets"
   ]
  },
  {
   "cell_type": "markdown",
   "metadata": {
    "slideshow": {
     "slide_type": "fragment"
    }
   },
   "source": [
    "- understanding what makes a dataset \"good\" for a particular algorithm"
   ]
  },
  {
   "cell_type": "markdown",
   "metadata": {
    "slideshow": {
     "slide_type": "fragment"
    }
   },
   "source": [
    "Docs: [edo.readthedocs.io](https://edo.readthedocs.io/en/latest/)\n",
    "<br>\n",
    "Source: [github.com/daffidwilde/edo](https://github.com/daffidwilde/edo)"
   ]
  },
  {
   "cell_type": "markdown",
   "metadata": {
    "slideshow": {
     "slide_type": "skip"
    }
   },
   "source": [
    "# What is a genetic algorithm?\n",
    "<img align='centre' width='700px' src='flowchart.svg'/>"
   ]
  },
  {
   "cell_type": "code",
   "execution_count": null,
   "metadata": {},
   "outputs": [],
   "source": []
  }
 ],
 "metadata": {
  "celltoolbar": "Slideshow",
  "kernelspec": {
   "display_name": "Python 3",
   "language": "python",
   "name": "python3"
  },
  "language_info": {
   "codemirror_mode": {
    "name": "ipython",
    "version": 3
   },
   "file_extension": ".py",
   "mimetype": "text/x-python",
   "name": "python",
   "nbconvert_exporter": "python",
   "pygments_lexer": "ipython3",
   "version": "3.7.3"
  }
 },
 "nbformat": 4,
 "nbformat_minor": 2
}
