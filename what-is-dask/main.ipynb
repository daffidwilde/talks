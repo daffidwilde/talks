{
 "cells": [
  {
   "cell_type": "markdown",
   "metadata": {
    "slideshow": {
     "slide_type": "slide"
    }
   },
   "source": [
    "<h1 style='font-size:60px'>\n",
    "    What is Dask?\n",
    "<img src='logo.svg' align='left' height='120' width='120' style='float: left; margin-right: 40px; margin-top: 1px;'/>\n",
    "</h1>\n",
    "\n",
    "<font size='4'> Henry Wilde | \n",
    "<i class='fa fa-github' aria-hidden='false'></i>\n",
    "<i class='fa fa-twitter' aria-hidden='false'></i> @daffidwilde </font>"
   ]
  },
  {
   "cell_type": "markdown",
   "metadata": {
    "slideshow": {
     "slide_type": "slide"
    }
   },
   "source": [
    "## Dask is a parallel computing framework all about building graphs\n",
    "## Documentation available at [docs.dask.org](https://docs.dask.org)\n",
    "\n",
    "<br>\n",
    "<br>\n",
    "\n",
    "<img align='centre' width='75%' src='dask-overview.svg'>\n",
    "\n",
    "<br>\n",
    "<br>"
   ]
  },
  {
   "cell_type": "markdown",
   "metadata": {
    "slideshow": {
     "slide_type": "slide"
    }
   },
   "source": [
    "# parellilisation with `dask.delayed`"
   ]
  },
  {
   "cell_type": "code",
   "execution_count": null,
   "metadata": {
    "slideshow": {
     "slide_type": "fragment"
    }
   },
   "outputs": [],
   "source": [
    "from time import sleep\n",
    "\n",
    "\n",
    "def inc(x):\n",
    "    sleep(0.5)\n",
    "    return x + 1\n",
    "\n",
    "\n",
    "def add(x, y):\n",
    "    sleep(1)\n",
    "    return x + y\n",
    "\n",
    "\n",
    "def mul(x, y):\n",
    "    sleep(0.5)\n",
    "    return x * y"
   ]
  },
  {
   "cell_type": "code",
   "execution_count": null,
   "metadata": {
    "scrolled": true,
    "slideshow": {
     "slide_type": "fragment"
    }
   },
   "outputs": [],
   "source": [
    "%%time\n",
    "\n",
    "results = []\n",
    "a = inc(1)\n",
    "for i in range(3):\n",
    "    b = mul(i, a)\n",
    "    c = add(a, b)\n",
    "    results.append(c)\n",
    "\n",
    "total = sum(results)\n",
    "total"
   ]
  },
  {
   "cell_type": "markdown",
   "metadata": {
    "slideshow": {
     "slide_type": "subslide"
    }
   },
   "source": [
    "---"
   ]
  },
  {
   "cell_type": "code",
   "execution_count": null,
   "metadata": {
    "slideshow": {
     "slide_type": "fragment"
    }
   },
   "outputs": [],
   "source": [
    "from dask import delayed\n",
    "\n",
    "\n",
    "@delayed\n",
    "def inc(x):\n",
    "    sleep(0.5)\n",
    "    return x + 1\n",
    "\n",
    "\n",
    "@delayed\n",
    "def add(x, y):\n",
    "    sleep(1)\n",
    "    return x + y\n",
    "\n",
    "\n",
    "@delayed\n",
    "def mul(x, y):\n",
    "    sleep(0.5)\n",
    "    return x * y"
   ]
  },
  {
   "cell_type": "code",
   "execution_count": null,
   "metadata": {
    "slideshow": {
     "slide_type": "fragment"
    }
   },
   "outputs": [],
   "source": [
    "%%time\n",
    "\n",
    "results = []\n",
    "a = inc(1)\n",
    "for i in range(3):\n",
    "    b = mul(i, a)\n",
    "    c = add(a, b)\n",
    "    results.append(c)\n",
    "\n",
    "total = sum(results)"
   ]
  },
  {
   "cell_type": "code",
   "execution_count": null,
   "metadata": {},
   "outputs": [],
   "source": []
  },
  {
   "cell_type": "markdown",
   "metadata": {},
   "source": [
    "# `numpy`-style linear algebra"
   ]
  },
  {
   "cell_type": "code",
   "execution_count": null,
   "metadata": {},
   "outputs": [],
   "source": [
    "%%time\n",
    "import numpy as np\n",
    "\n",
    "size = 10_000\n",
    "\n",
    "rng = np.random.default_rng(0)\n",
    "A = rng.normal(size=(size, size))\n",
    "\n",
    "A.mean(), A.std()"
   ]
  },
  {
   "cell_type": "markdown",
   "metadata": {},
   "source": [
    "---\n",
    "\n",
    "Dask are currently developing a `np.random.default_rng` mimic [(dask#9038)](https://github.com/dask/dask/pull/9038), so global seeding will have to do!"
   ]
  },
  {
   "cell_type": "code",
   "execution_count": null,
   "metadata": {},
   "outputs": [],
   "source": [
    "%%time\n",
    "import dask\n",
    "import dask.array as da\n",
    "\n",
    "da.random.seed(0)\n",
    "A = da.random.normal(size=(size, size))\n",
    "\n",
    "results = A.mean(), A.std()\n",
    "dask.compute(*results)"
   ]
  },
  {
   "cell_type": "code",
   "execution_count": null,
   "metadata": {},
   "outputs": [],
   "source": [
    "dask.visualize(results)"
   ]
  },
  {
   "cell_type": "code",
   "execution_count": null,
   "metadata": {},
   "outputs": [],
   "source": [
    "b = da.random.normal(size=size)\n",
    "\n",
    "x = da.linalg.solve(A, b)"
   ]
  },
  {
   "cell_type": "code",
   "execution_count": null,
   "metadata": {
    "scrolled": false
   },
   "outputs": [],
   "source": [
    "x.visualize(rankdir=\"LR\")"
   ]
  },
  {
   "cell_type": "markdown",
   "metadata": {
    "slideshow": {
     "slide_type": "slide"
    }
   },
   "source": [
    "# `pandas`-esque data handling\n",
    "\n",
    "Data available as a tarball [here](https://storage.googleapis.com/dask-tutorial-data/nycflights.tar.gz) or by running `./get_data.py`"
   ]
  },
  {
   "cell_type": "code",
   "execution_count": null,
   "metadata": {},
   "outputs": [],
   "source": [
    "%%time\n",
    "import glob\n",
    "import pandas as pd\n",
    "\n",
    "\n",
    "dtypes = {\n",
    "    \"CRSElapsedTime\": \"float\",\n",
    "    \"TailNum\": \"category\",\n",
    "    \"UniqueCarrier\": \"category\",\n",
    "    \"Origin\": \"category\",\n",
    "    \"Dest\": \"category\",\n",
    "}\n",
    "\n",
    "dfs = (pd.read_csv(csv, dtype=dtypes) for csv in glob.iglob(\"nycflights/*.csv\"))\n",
    "df = pd.concat(dfs)"
   ]
  },
  {
   "cell_type": "code",
   "execution_count": null,
   "metadata": {},
   "outputs": [],
   "source": [
    "df.memory_usage(deep=True).sum() / (1024**2)"
   ]
  },
  {
   "cell_type": "code",
   "execution_count": null,
   "metadata": {},
   "outputs": [],
   "source": [
    "df.head()"
   ]
  },
  {
   "cell_type": "code",
   "execution_count": null,
   "metadata": {},
   "outputs": [],
   "source": [
    "%%time\n",
    "df.groupby(\"Origin\")[\"DepDelay\"].mean().sort_values()"
   ]
  },
  {
   "cell_type": "markdown",
   "metadata": {},
   "source": [
    "---"
   ]
  },
  {
   "cell_type": "code",
   "execution_count": null,
   "metadata": {
    "slideshow": {
     "slide_type": "fragment"
    }
   },
   "outputs": [],
   "source": [
    "%%time\n",
    "import dask.dataframe as dd\n",
    "\n",
    "\n",
    "ddf = dd.read_csv(\"nycflights/*.csv\", dtype=dtypes)"
   ]
  },
  {
   "cell_type": "code",
   "execution_count": null,
   "metadata": {
    "slideshow": {
     "slide_type": "fragment"
    }
   },
   "outputs": [],
   "source": [
    "ddf.head()"
   ]
  },
  {
   "cell_type": "code",
   "execution_count": null,
   "metadata": {
    "scrolled": true
   },
   "outputs": [],
   "source": [
    "mean = ddf.groupby(\"Origin\")[\"DepDelay\"].mean()\n",
    "mean"
   ]
  },
  {
   "cell_type": "code",
   "execution_count": null,
   "metadata": {
    "scrolled": false
   },
   "outputs": [],
   "source": [
    "mean.visualize()"
   ]
  },
  {
   "cell_type": "code",
   "execution_count": null,
   "metadata": {},
   "outputs": [],
   "source": [
    "%%time\n",
    "mean.compute().sort_values()"
   ]
  },
  {
   "cell_type": "markdown",
   "metadata": {
    "collapsed": true
   },
   "source": [
    "# Schedulers\n",
    "---\n",
    "\n",
    "\n",
    "There are four schedulers currently implemented in Dask:\n",
    "\n",
    "-  **Threaded:**\n",
    " - Useful for numeric code such as `numpy` and `pandas` where the GIL is released \n",
    "\n",
    "\n",
    "- **Multiprocessing:**\n",
    " - Good for Python-bound code that requires multiple interpreters\n",
    "\n",
    "\n",
    "- **Synchronous:**\n",
    " - Helps with debugging and profiling\n",
    "\n",
    "\n",
    "- **Distributed:**\n",
    " - For working with a cluster of machines on larger tasks\n",
    " - Local alternative with better diagnostic tools"
   ]
  },
  {
   "cell_type": "code",
   "execution_count": null,
   "metadata": {},
   "outputs": [],
   "source": [
    "import dask_ml.datasets\n",
    "import dask_ml.cluster\n",
    "from distributed import Client\n",
    "\n",
    "client = Client(n_workers=8, memory_limit=\"4GiB\")\n",
    "client"
   ]
  },
  {
   "cell_type": "code",
   "execution_count": null,
   "metadata": {},
   "outputs": [],
   "source": [
    "n_clusters = 3\n",
    "\n",
    "X, _ = dask_ml.datasets.make_blobs(\n",
    "    n_samples=1e7,\n",
    "    chunks=1e5,\n",
    "    n_features=2,\n",
    "    centers=n_clusters,\n",
    "    random_state=0,\n",
    ")\n",
    "\n",
    "X.persist()\n",
    "X"
   ]
  },
  {
   "cell_type": "code",
   "execution_count": null,
   "metadata": {
    "scrolled": true
   },
   "outputs": [],
   "source": [
    "%%time\n",
    "kmeans = dask_ml.cluster.KMeans(n_clusters=n_clusters, random_state=0).fit(X)\n",
    "kmeans.labels_"
   ]
  },
  {
   "cell_type": "code",
   "execution_count": null,
   "metadata": {
    "scrolled": false
   },
   "outputs": [],
   "source": [
    "import matplotlib.pyplot as plt\n",
    "\n",
    "%matplotlib inline\n",
    "\n",
    "\n",
    "skip = 1000\n",
    "_, ax = plt.subplots(dpi=300)\n",
    "\n",
    "plot = ax.scatter(X[::skip, 0], X[::skip, 1], marker=\".\", c=kmeans.labels_[::skip])"
   ]
  },
  {
   "cell_type": "code",
   "execution_count": null,
   "metadata": {},
   "outputs": [],
   "source": [
    "client.shutdown()"
   ]
  },
  {
   "cell_type": "code",
   "execution_count": null,
   "metadata": {},
   "outputs": [],
   "source": []
  }
 ],
 "metadata": {
  "kernelspec": {
   "display_name": "what-is-dask",
   "language": "python",
   "name": "what-is-dask"
  },
  "language_info": {
   "codemirror_mode": {
    "name": "ipython",
    "version": 3
   },
   "file_extension": ".py",
   "mimetype": "text/x-python",
   "name": "python",
   "nbconvert_exporter": "python",
   "pygments_lexer": "ipython3",
   "version": "3.9.13"
  }
 },
 "nbformat": 4,
 "nbformat_minor": 2
}
